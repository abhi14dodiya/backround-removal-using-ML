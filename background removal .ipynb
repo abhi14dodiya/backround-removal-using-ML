{
 "cells": [
  {
   "cell_type": "code",
   "execution_count": 1,
   "metadata": {},
   "outputs": [],
   "source": [
    "import cv2 \n",
    "import cvzone\n",
    "from cvzone.SelfiSegmentationModule import SelfiSegmentation\n"
   ]
  },
  {
   "cell_type": "code",
   "execution_count": 2,
   "metadata": {},
   "outputs": [],
   "source": [
    "#just for images \n",
    "#press esc to close\n",
    "segmenter = SelfiSegmentation()\n",
    "cap = cv2.VideoCapture(0)\n",
    "\n",
    "while True:\n",
    "    img = cv2.imread(\"Images/woman.jpg\")\n",
    "    imgOut = segmenter.removeBG(img,(255,255,255),threshold=0.8)#thresold for cutting edge # it will remove background from image and put secon parameter as background #instead of imgbg we can use color code also   \n",
    "    imgStacked = cvzone.stackImages([img,imgOut],2,1)\n",
    "    cv2.imshow(\"Image\",imgStacked)\n",
    "    \n",
    "    cv2.waitKey(1)\n",
    "    if cv2.waitKey(33) == 27: \n",
    "        break\n",
    "cap.release()\n",
    "cv2.destroyAllWindows()\n",
    "exit()"
   ]
  },
  {
   "cell_type": "code",
   "execution_count": null,
   "metadata": {},
   "outputs": [],
   "source": [
    "# for video \n",
    "#press esc to close\n",
    "cap = cv2.VideoCapture(0)\n",
    "cap.set(3,640)\n",
    "cap.set(4,480)\n",
    "#cap.set(cv2.CAP_PROP_FPS,60)#increase frame rate\n",
    "segmenter = SelfiSegmentation()\n",
    "fpsReader = cvzone.FPS()#for fps update\n",
    "#imgBG = cv2.imread(\"Images/background 1.jpeg\")#for background image so before thresold give this variable\n",
    "\n",
    "\n",
    "while True:\n",
    "    success,img = cap.read()\n",
    "    imgOut = segmenter.removeBG(img,(255,255,255),threshold=0.8)#thresold for cutting edge # it will remove background from image and put secon parameter as background #instead of imgbg we can use color code also   \n",
    "    imgStacked = cvzone.stackImages([img,imgOut],2,1)\n",
    "    _,imgStacked = fpsReader.update(imgStacked,color = (255,0,0))   \n",
    "    cv2.imshow(\"Image\",imgStacked)\n",
    "    \n",
    "    cv2.waitKey(1)\n",
    "    if cv2.waitKey(33) == 27: \n",
    "        break\n",
    "cap.release()\n",
    "cv2.destroyAllWindows()\n",
    "exit()"
   ]
  },
  {
   "cell_type": "code",
   "execution_count": null,
   "metadata": {},
   "outputs": [],
   "source": []
  }
 ],
 "metadata": {
  "kernelspec": {
   "display_name": "Python 3",
   "language": "python",
   "name": "python3"
  },
  "language_info": {
   "codemirror_mode": {
    "name": "ipython",
    "version": 3
   },
   "file_extension": ".py",
   "mimetype": "text/x-python",
   "name": "python",
   "nbconvert_exporter": "python",
   "pygments_lexer": "ipython3",
   "version": "3.8.5"
  }
 },
 "nbformat": 4,
 "nbformat_minor": 4
}
